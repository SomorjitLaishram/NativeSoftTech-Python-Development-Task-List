{
  "nbformat": 4,
  "nbformat_minor": 0,
  "metadata": {
    "colab": {
      "provenance": []
    },
    "kernelspec": {
      "name": "python3",
      "display_name": "Python 3"
    },
    "language_info": {
      "name": "python"
    }
  },
  "cells": [
    {
      "cell_type": "code",
      "execution_count": 12,
      "metadata": {
        "id": "VpHNC_778-uk"
      },
      "outputs": [],
      "source": [
        "import argparse\n",
        "import json\n",
        "import os\n",
        "import sys\n",
        "\n",
        "# Define the file to store tasks\n",
        "tasks_file = \"tasks.json\"\n",
        "\n",
        "# Load existing tasks\n",
        "def load_tasks():\n",
        "    if os.path.exists(tasks_file):\n",
        "        with open(tasks_file, \"r\") as file:\n",
        "            return json.load(file)\n",
        "    return []\n"
      ]
    },
    {
      "cell_type": "code",
      "source": [
        "# Save tasks\n",
        "def save_tasks(tasks):\n",
        "    with open(tasks_file, \"w\") as file:\n",
        "        json.dump(tasks, file, indent=4)"
      ],
      "metadata": {
        "id": "ugz4t7We93_I"
      },
      "execution_count": 4,
      "outputs": []
    },
    {
      "cell_type": "code",
      "source": [
        "# Add a new task\n",
        "def add_task(description, category, priority):\n",
        "    tasks = load_tasks()\n",
        "    tasks.append({\n",
        "        \"id\": len(tasks) + 1,\n",
        "        \"description\": description,\n",
        "        \"category\": category,\n",
        "        \"priority\": priority,\n",
        "        \"status\": \"Pending\"\n",
        "    })\n",
        "    save_tasks(tasks)\n",
        "    print(f\"Task added: {description} (Category: {category}, Priority: {priority})\")\n"
      ],
      "metadata": {
        "id": "GkiUeIFw-2lE"
      },
      "execution_count": 5,
      "outputs": []
    },
    {
      "cell_type": "code",
      "source": [
        "# List all tasks\n",
        "def list_tasks(status=None):\n",
        "    tasks = load_tasks()\n",
        "    if not tasks:\n",
        "        print(\"No tasks available.\")\n",
        "        return\n",
        "    for task in tasks:\n",
        "        if status and task[\"status\"] != status:\n",
        "            continue\n",
        "        print(f\"{task['id']}. {task['description']} [Category: {task['category']}, Priority: {task['priority']}, Status: {task['status']}]\")\n"
      ],
      "metadata": {
        "id": "Ru8oFdeR-2nt"
      },
      "execution_count": 6,
      "outputs": []
    },
    {
      "cell_type": "code",
      "source": [
        "# Delete a task\n",
        "def delete_task(task_id):\n",
        "    tasks = load_tasks()\n",
        "    tasks = [task for task in tasks if task[\"id\"] != task_id]\n",
        "    save_tasks(tasks)\n",
        "    print(f\"Task {task_id} deleted.\")"
      ],
      "metadata": {
        "id": "q3dfMI0o-2qF"
      },
      "execution_count": 7,
      "outputs": []
    },
    {
      "cell_type": "code",
      "source": [
        "# Update a task\n",
        "def update_task(task_id, description):\n",
        "    tasks = load_tasks()\n",
        "    for task in tasks:\n",
        "        if task[\"id\"] == task_id:\n",
        "            task[\"description\"] = description\n",
        "            save_tasks(tasks)\n",
        "            print(f\"Task {task_id} updated to: {description}\")\n",
        "            return\n",
        "    print(\"Task not found.\")"
      ],
      "metadata": {
        "id": "bO_fFrE5-2st"
      },
      "execution_count": 8,
      "outputs": []
    },
    {
      "cell_type": "code",
      "source": [
        "# Mark task as completed\n",
        "def complete_task(task_id):\n",
        "    tasks = load_tasks()\n",
        "    for task in tasks:\n",
        "        if task[\"id\"] == task_id:\n",
        "            task[\"status\"] = \"Completed\"\n",
        "            save_tasks(tasks)\n",
        "            print(f\"Task {task_id} marked as completed.\")\n",
        "            return\n",
        "    print(\"Task not found.\")"
      ],
      "metadata": {
        "id": "8U7VWwgU-2wP"
      },
      "execution_count": 9,
      "outputs": []
    },
    {
      "cell_type": "code",
      "source": [
        "# Define CLI arguments\n",
        "parser = argparse.ArgumentParser(description=\"Simple CLI To-Do List Manager\", add_help=False)\n",
        "parser.add_argument(\"--add\", type=str, help=\"Add a new task\")\n",
        "parser.add_argument(\"--category\", type=str, help=\"Specify task category\", default=\"General\")\n",
        "parser.add_argument(\"--priority\", type=str, choices=[\"High\", \"Medium\", \"Low\"], default=\"Medium\", help=\"Set task priority\")\n",
        "parser.add_argument(\"--list\", action=\"store_true\", help=\"List all tasks\")\n",
        "parser.add_argument(\"--list-completed\", action=\"store_true\", help=\"List only completed tasks\")\n",
        "parser.add_argument(\"--delete\", type=int, help=\"Delete a task by ID\")\n",
        "parser.add_argument(\"--update\", type=int, help=\"Update a task by ID\")\n",
        "parser.add_argument(\"--desc\", type=str, help=\"New description for update\")\n",
        "parser.add_argument(\"--complete\", type=int, help=\"Mark a task as completed\")\n",
        "\n",
        "if __name__ == \"__main__\":\n",
        "    try:\n",
        "        args, unknown = parser.parse_known_args()\n",
        "    except SystemExit:\n",
        "        sys.exit(0)\n",
        "\n",
        "    if args.add:\n",
        "        add_task(args.add, args.category, args.priority)\n",
        "    elif args.list:\n",
        "        list_tasks()\n",
        "    elif args.list_completed:\n",
        "        list_tasks(\"Completed\")\n",
        "    elif args.delete:\n",
        "        delete_task(args.delete)\n",
        "    elif args.update and args.desc:\n",
        "        update_task(args.update, args.desc)\n",
        "    elif args.complete:\n",
        "        complete_task(args.complete)\n",
        "    else:\n",
        "        parser.print_help()\n"
      ],
      "metadata": {
        "colab": {
          "base_uri": "https://localhost:8080/"
        },
        "id": "yWmId746_Mg2",
        "outputId": "9ee8fc95-6dd7-4897-a2f6-ea7b73a696a9"
      },
      "execution_count": 16,
      "outputs": [
        {
          "output_type": "stream",
          "name": "stdout",
          "text": [
            "usage: colab_kernel_launcher.py [--add ADD] [--category CATEGORY] [--priority {High,Medium,Low}]\n",
            "                                [--list] [--list-completed] [--delete DELETE] [--update UPDATE]\n",
            "                                [--desc DESC] [--complete COMPLETE]\n",
            "\n",
            "Simple CLI To-Do List Manager\n",
            "\n",
            "options:\n",
            "  --add ADD             Add a new task\n",
            "  --category CATEGORY   Specify task category\n",
            "  --priority {High,Medium,Low}\n",
            "                        Set task priority\n",
            "  --list                List all tasks\n",
            "  --list-completed      List only completed tasks\n",
            "  --delete DELETE       Delete a task by ID\n",
            "  --update UPDATE       Update a task by ID\n",
            "  --desc DESC           New description for update\n",
            "  --complete COMPLETE   Mark a task as completed\n"
          ]
        }
      ]
    },
    {
      "cell_type": "code",
      "source": [],
      "metadata": {
        "id": "1h3P5bgv_MkN"
      },
      "execution_count": null,
      "outputs": []
    }
  ]
}